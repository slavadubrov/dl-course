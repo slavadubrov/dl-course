{
 "cells": [
  {
   "cell_type": "markdown",
   "metadata": {},
   "source": [
    "# Preparations"
   ]
  },
  {
   "cell_type": "code",
   "execution_count": null,
   "metadata": {},
   "outputs": [],
   "source": [
    "import numpy as np"
   ]
  },
  {
   "cell_type": "code",
   "execution_count": null,
   "metadata": {},
   "outputs": [],
   "source": [
    "batch_size, feature_size, output_size = 8, 5, 1"
   ]
  },
  {
   "cell_type": "code",
   "execution_count": null,
   "metadata": {},
   "outputs": [],
   "source": [
    "def generate_X(batch_size, feature_size):\n",
    "    return np.concatenate((5 * np.random.rand(batch_size // 2, feature_size) + 2, 5 * np.random.rand(batch_size//2, feature_size) - 2))\n",
    "\n",
    "def generate_Y(batch_size, output_size):\n",
    "    return np.concatenate((np.ones((batch_size//2, output_size)), np.zeros((batch_size//2, output_size))))\n"
   ]
  },
  {
   "cell_type": "code",
   "execution_count": null,
   "metadata": {},
   "outputs": [],
   "source": [
    "# Create input and output data\n",
    "x = generate_X(batch_size, feature_size)\n",
    "x0 = np.ones((batch_size, 1))\n",
    "y = generate_Y(batch_size, output_size)"
   ]
  },
  {
   "cell_type": "code",
   "execution_count": null,
   "metadata": {},
   "outputs": [],
   "source": [
    "# Randomly initialize weights\n",
    "w1 = np.random.randn(feature_size, output_size)\n",
    "b1 = np.random.randn(1, output_size)"
   ]
  },
  {
   "cell_type": "code",
   "execution_count": null,
   "metadata": {},
   "outputs": [],
   "source": [
    "def quadratic_loss(y_pred, y):\n",
    "    return np.square(y_pred - y)\n",
    "\n",
    "def quadratic_loss_derivative(y_pred, y):\n",
    "    return 2.0 * (y_pred - y)"
   ]
  },
  {
   "cell_type": "markdown",
   "metadata": {},
   "source": [
    "# Forward propagation"
   ]
  },
  {
   "cell_type": "code",
   "execution_count": null,
   "metadata": {},
   "outputs": [],
   "source": [
    "learning_rate = 1e-6"
   ]
  },
  {
   "cell_type": "code",
   "execution_count": null,
   "metadata": {},
   "outputs": [],
   "source": [
    "# Forward pass: compute predicted y\n",
    "y_pred = x.dot(w1) + b1"
   ]
  },
  {
   "cell_type": "code",
   "execution_count": null,
   "metadata": {},
   "outputs": [],
   "source": [
    "# Compute and print loss\n",
    "loss = quadratic_loss(y_pred, y)\n",
    "loss.sum()"
   ]
  },
  {
   "cell_type": "markdown",
   "metadata": {},
   "source": [
    "# Backpropagation"
   ]
  },
  {
   "cell_type": "code",
   "execution_count": null,
   "metadata": {},
   "outputs": [],
   "source": [
    "# Backprop to compute gradients of w1 with respect to loss\n",
    "grad_y_pred = quadratic_loss_derivative(y_pred, y)\n",
    "\n",
    "grad_w1 = x.T.dot(grad_y_pred)\n",
    "grad_b1 = x0.T.dot(grad_y_pred)"
   ]
  },
  {
   "cell_type": "code",
   "execution_count": null,
   "metadata": {},
   "outputs": [],
   "source": [
    "# Update weights\n",
    "w1 -= learning_rate * grad_w1\n",
    "b1 -= learning_rate * grad_b1"
   ]
  },
  {
   "cell_type": "code",
   "execution_count": null,
   "metadata": {},
   "outputs": [],
   "source": [
    "# Forward pass: compute predicted y\n",
    "y_pred = x.dot(w1) + b1\n",
    "y_pred"
   ]
  },
  {
   "cell_type": "code",
   "execution_count": null,
   "metadata": {},
   "outputs": [],
   "source": [
    "# Compute and print loss\n",
    "loss = quadratic_loss(y_pred, y)\n",
    "loss.sum()"
   ]
  },
  {
   "cell_type": "code",
   "execution_count": null,
   "metadata": {},
   "outputs": [],
   "source": []
  },
  {
   "cell_type": "markdown",
   "metadata": {},
   "source": [
    "# Let's add loop"
   ]
  },
  {
   "cell_type": "code",
   "execution_count": null,
   "metadata": {},
   "outputs": [],
   "source": [
    "learning_rate = 1e-5\n",
    "for t in range(5000):\n",
    "    # Forward pass: compute predicted y\n",
    "    y_pred = x.dot(w1) + b1\n",
    "\n",
    "    # Compute and print loss\n",
    "    loss = quadratic_loss(y_pred, y)\n",
    "    print(t, loss.sum())\n",
    "\n",
    "    # Backprop to compute gradients of w1 and w2 with respect to loss\n",
    "    grad_y_pred = quadratic_loss_derivative(y_pred, y)\n",
    "\n",
    "    # calculate gradient for w1\n",
    "    grad_w1 = x.T.dot(grad_y_pred)\n",
    "    grad_b1 = x0.T.dot(grad_y_pred)\n",
    "\n",
    "    # Update weights\n",
    "    w1 -= learning_rate * grad_w1\n",
    "    b1 -= learning_rate * grad_b1"
   ]
  },
  {
   "cell_type": "code",
   "execution_count": null,
   "metadata": {
    "scrolled": true
   },
   "outputs": [],
   "source": [
    "# Forward pass: compute predicted y\n",
    "y_pred = x.dot(w1)\n",
    "y_pred"
   ]
  },
  {
   "cell_type": "code",
   "execution_count": null,
   "metadata": {},
   "outputs": [],
   "source": [
    "# Compute and print loss\n",
    "loss = quadratic_loss(y_pred, y)\n",
    "loss.sum()"
   ]
  }
 ],
 "metadata": {
  "kernelspec": {
   "display_name": "Python 3",
   "language": "python",
   "name": "python3"
  },
  "language_info": {
   "codemirror_mode": {
    "name": "ipython",
    "version": 3
   },
   "file_extension": ".py",
   "mimetype": "text/x-python",
   "name": "python",
   "nbconvert_exporter": "python",
   "pygments_lexer": "ipython3",
   "version": "3.6.7"
  }
 },
 "nbformat": 4,
 "nbformat_minor": 2
}
