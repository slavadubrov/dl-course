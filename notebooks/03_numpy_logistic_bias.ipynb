{
 "cells": [
  {
   "cell_type": "markdown",
   "metadata": {},
   "source": [
    "# Preparations"
   ]
  },
  {
   "cell_type": "code",
   "execution_count": 1,
   "metadata": {},
   "outputs": [],
   "source": [
    "import numpy as np"
   ]
  },
  {
   "cell_type": "code",
   "execution_count": 2,
   "metadata": {},
   "outputs": [],
   "source": [
    "batch_size, feature_size, output_size = 8, 5, 1"
   ]
  },
  {
   "cell_type": "code",
   "execution_count": 3,
   "metadata": {},
   "outputs": [],
   "source": [
    "def generate_X(batch_size, feature_size):\n",
    "    return np.concatenate((5 * np.random.rand(batch_size // 2, feature_size) + 2, 5 * np.random.rand(batch_size//2, feature_size) - 2))\n",
    "\n",
    "def generate_Y(batch_size, output_size):\n",
    "    return np.concatenate((np.ones((batch_size//2, output_size)), np.zeros((batch_size//2, output_size))))\n"
   ]
  },
  {
   "cell_type": "code",
   "execution_count": 4,
   "metadata": {},
   "outputs": [],
   "source": [
    "# Create input and output data\n",
    "x = generate_X(batch_size, feature_size)\n",
    "x0 = np.ones((batch_size, 1))\n",
    "y = generate_Y(batch_size, output_size)"
   ]
  },
  {
   "cell_type": "code",
   "execution_count": 5,
   "metadata": {},
   "outputs": [],
   "source": [
    "# Randomly initialize weights\n",
    "w1 = np.random.randn(feature_size, output_size)\n",
    "b1 = np.random.randn(1, output_size)"
   ]
  },
  {
   "cell_type": "code",
   "execution_count": 6,
   "metadata": {},
   "outputs": [],
   "source": [
    "def sigmoid(x):\n",
    "    return 1. / (1 + np.exp(-x))\n",
    "\n",
    "def sigmoid_derivative(x):\n",
    "    return sigmoid(x)*(1 - sigmoid(x))"
   ]
  },
  {
   "cell_type": "markdown",
   "metadata": {},
   "source": [
    "# Forward propagation"
   ]
  },
  {
   "cell_type": "code",
   "execution_count": 7,
   "metadata": {},
   "outputs": [],
   "source": [
    "learning_rate = 1e-5"
   ]
  },
  {
   "cell_type": "code",
   "execution_count": 8,
   "metadata": {},
   "outputs": [
    {
     "data": {
      "text/plain": [
       "array([[0.20214854],\n",
       "       [0.06403529],\n",
       "       [0.05969032],\n",
       "       [0.94659729],\n",
       "       [0.07808954],\n",
       "       [0.1134001 ],\n",
       "       [0.37302664],\n",
       "       [0.07176207]])"
      ]
     },
     "execution_count": 8,
     "metadata": {},
     "output_type": "execute_result"
    }
   ],
   "source": [
    "# Forward pass: compute predicted y\n",
    "h1 = x.dot(w1) + b1\n",
    "y_pred = sigmoid(h1)\n",
    "y_pred"
   ]
  },
  {
   "cell_type": "code",
   "execution_count": 9,
   "metadata": {},
   "outputs": [],
   "source": [
    "def log_loss(y_pred, y):\n",
    "    return (-y * np.log(y_pred) - (1 - y) * np.log(1 - y_pred))\n",
    "\n",
    "def grad_log_loss(y_pred, y):\n",
    "    return y_pred - y"
   ]
  },
  {
   "cell_type": "code",
   "execution_count": 10,
   "metadata": {},
   "outputs": [
    {
     "data": {
      "text/plain": [
       "7.9635275682126565"
      ]
     },
     "execution_count": 10,
     "metadata": {},
     "output_type": "execute_result"
    }
   ],
   "source": [
    "# Compute and print loss\n",
    "loss = log_loss(y_pred, y)\n",
    "loss.sum()"
   ]
  },
  {
   "cell_type": "markdown",
   "metadata": {},
   "source": [
    "# Backpropagation"
   ]
  },
  {
   "cell_type": "code",
   "execution_count": 11,
   "metadata": {},
   "outputs": [],
   "source": [
    "# Backprop to compute gradients of w1 with respect to loss\n",
    "grad_y_pred = grad_log_loss(y_pred, y)\n",
    "\n",
    "grad_sigmoid = sigmoid_derivative(grad_y_pred) * grad_y_pred\n",
    "\n",
    "grad_w1 = x.T.dot(grad_sigmoid)\n",
    "grad_b1 = x0.T.dot(grad_sigmoid)"
   ]
  },
  {
   "cell_type": "code",
   "execution_count": 12,
   "metadata": {},
   "outputs": [],
   "source": [
    "# Update weights\n",
    "w1 -= learning_rate * grad_w1\n",
    "b1 -= learning_rate * grad_b1"
   ]
  },
  {
   "cell_type": "code",
   "execution_count": 13,
   "metadata": {},
   "outputs": [
    {
     "data": {
      "text/plain": [
       "array([[0.2022189 ],\n",
       "       [0.0640735 ],\n",
       "       [0.05972626],\n",
       "       [0.94663026],\n",
       "       [0.07809277],\n",
       "       [0.11341119],\n",
       "       [0.37304639],\n",
       "       [0.0717628 ]])"
      ]
     },
     "execution_count": 13,
     "metadata": {},
     "output_type": "execute_result"
    }
   ],
   "source": [
    "# Forward pass: compute predicted y\n",
    "h1 = x.dot(w1) + b1\n",
    "y_pred = sigmoid(h1)\n",
    "y_pred"
   ]
  },
  {
   "cell_type": "code",
   "execution_count": 14,
   "metadata": {},
   "outputs": [
    {
     "data": {
      "text/plain": [
       "7.961994473123256"
      ]
     },
     "execution_count": 14,
     "metadata": {},
     "output_type": "execute_result"
    }
   ],
   "source": [
    "# Compute and print loss\n",
    "loss = log_loss(y_pred, y)\n",
    "loss.sum()"
   ]
  },
  {
   "cell_type": "markdown",
   "metadata": {},
   "source": [
    "# Let's add loop"
   ]
  },
  {
   "cell_type": "code",
   "execution_count": 15,
   "metadata": {},
   "outputs": [
    {
     "name": "stdout",
     "output_type": "stream",
     "text": [
      "0 \t 7.961994473123256\n",
      "100 \t 7.8096078154666095\n",
      "200 \t 7.6590581651886644\n",
      "300 \t 7.510361855539488\n",
      "400 \t 7.363537748962605\n"
     ]
    }
   ],
   "source": [
    "learning_rate = 1e-5\n",
    "for t in range(500):\n",
    "    # Forward pass: compute predicted y\n",
    "    h1 = x.dot(w1) + b1\n",
    "    y_pred = sigmoid(h1)\n",
    "\n",
    "    # Compute and print loss\n",
    "    loss = log_loss(y_pred, y)\n",
    "    if t % 100 == 0: print(t, \"\\t\", loss.sum())\n",
    "\n",
    "    # Backprop to compute gradients of w1 and w2 with respect to loss\n",
    "    grad_y_pred = grad_log_loss(y_pred, y)\n",
    "    grad_sigmoid = sigmoid_derivative(grad_y_pred) * grad_y_pred\n",
    "\n",
    "    # calculate gradient for w1\n",
    "    grad_w1 = x.T.dot(grad_sigmoid)\n",
    "    grad_b1 = x0.T.dot(grad_sigmoid)\n",
    "\n",
    "    # Update weights\n",
    "    w1 -= learning_rate * grad_w1\n",
    "    b1 -= learning_rate * grad_b1"
   ]
  },
  {
   "cell_type": "code",
   "execution_count": 16,
   "metadata": {
    "scrolled": true
   },
   "outputs": [
    {
     "data": {
      "text/plain": [
       "array([[0.23915826],\n",
       "       [0.08571688],\n",
       "       [0.08013961],\n",
       "       [0.96073853],\n",
       "       [0.0797036 ],\n",
       "       [0.11899488],\n",
       "       [0.38283717],\n",
       "       [0.07212657]])"
      ]
     },
     "execution_count": 16,
     "metadata": {},
     "output_type": "execute_result"
    }
   ],
   "source": [
    "# Forward pass: compute predicted y\n",
    "h1 = x.dot(w1) + b1\n",
    "y_pred = sigmoid(h1)\n",
    "y_pred"
   ]
  },
  {
   "cell_type": "code",
   "execution_count": null,
   "metadata": {},
   "outputs": [],
   "source": []
  }
 ],
 "metadata": {
  "kernelspec": {
   "display_name": "Python 3",
   "language": "python",
   "name": "python3"
  },
  "language_info": {
   "codemirror_mode": {
    "name": "ipython",
    "version": 3
   },
   "file_extension": ".py",
   "mimetype": "text/x-python",
   "name": "python",
   "nbconvert_exporter": "python",
   "pygments_lexer": "ipython3",
   "version": "3.6.7"
  }
 },
 "nbformat": 4,
 "nbformat_minor": 2
}
