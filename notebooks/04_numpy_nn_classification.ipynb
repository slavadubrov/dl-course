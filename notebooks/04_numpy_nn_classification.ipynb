{
 "cells": [
  {
   "cell_type": "markdown",
   "metadata": {},
   "source": [
    "# Preparations"
   ]
  },
  {
   "cell_type": "code",
   "execution_count": null,
   "metadata": {},
   "outputs": [],
   "source": [
    "import numpy as np"
   ]
  },
  {
   "cell_type": "code",
   "execution_count": null,
   "metadata": {},
   "outputs": [],
   "source": [
    "batch_size, feature_size, hidden_layer_size_1, output_size = 8, 5, 10, 1"
   ]
  },
  {
   "cell_type": "code",
   "execution_count": null,
   "metadata": {},
   "outputs": [],
   "source": [
    "def generate_X(batch_size, feature_size):\n",
    "    return np.concatenate((5 * np.random.rand(batch_size // 2, feature_size) + 2, 5 * np.random.rand(batch_size//2, feature_size) - 2))\n",
    "\n",
    "def generate_Y(batch_size, output_size):\n",
    "    return np.concatenate((np.ones((batch_size//2, output_size)), np.zeros((batch_size//2, output_size))))\n"
   ]
  },
  {
   "cell_type": "code",
   "execution_count": null,
   "metadata": {},
   "outputs": [],
   "source": [
    "# Create input and output data\n",
    "x = generate_X(batch_size, feature_size)\n",
    "y = generate_Y(batch_size, output_size)"
   ]
  },
  {
   "cell_type": "code",
   "execution_count": null,
   "metadata": {},
   "outputs": [],
   "source": []
  },
  {
   "cell_type": "code",
   "execution_count": null,
   "metadata": {},
   "outputs": [],
   "source": [
    "# Randomly initialize weights\n",
    "w1 = np.random.randn(feature_size, hidden_layer_size_1)\n",
    "w2 = np.random.randn(hidden_layer_size_1, output_size)"
   ]
  },
  {
   "cell_type": "code",
   "execution_count": null,
   "metadata": {},
   "outputs": [],
   "source": []
  },
  {
   "cell_type": "code",
   "execution_count": null,
   "metadata": {},
   "outputs": [],
   "source": [
    "def sigmoid(x):\n",
    "    return 1. / (1 + np.exp(-x))\n",
    "\n",
    "def relu(x):\n",
    "    return np.maximum(x, 0)\n",
    "\n",
    "def sigmoid_derivative(x):\n",
    "    return sigmoid(x)*(1 - sigmoid(x))\n",
    "\n",
    "def relu_derivative(x):\n",
    "    return relu(x)"
   ]
  },
  {
   "cell_type": "markdown",
   "metadata": {},
   "source": [
    "# Forward propagation"
   ]
  },
  {
   "cell_type": "code",
   "execution_count": null,
   "metadata": {},
   "outputs": [],
   "source": [
    "learning_rate = 1e-6"
   ]
  },
  {
   "cell_type": "code",
   "execution_count": null,
   "metadata": {},
   "outputs": [],
   "source": [
    "# Forward pass: compute predicted y\n",
    "h1 = x.dot(w1)\n",
    "h1_relu = relu(h1)\n",
    "h2 = h1_relu.dot(w2)\n",
    "y_pred = sigmoid(h2)\n",
    "y_pred"
   ]
  },
  {
   "cell_type": "code",
   "execution_count": null,
   "metadata": {},
   "outputs": [],
   "source": [
    "def log_loss(y_pred, y):\n",
    "    return (-y * np.log(y_pred) - (1 - y) * np.log(1 - y_pred))\n",
    "\n",
    "def grad_log_loss(y_pred, y):\n",
    "    return y_pred - y"
   ]
  },
  {
   "cell_type": "code",
   "execution_count": null,
   "metadata": {},
   "outputs": [],
   "source": [
    "# Compute and print loss\n",
    "loss = log_loss(y_pred, y).sum()\n",
    "loss"
   ]
  },
  {
   "cell_type": "markdown",
   "metadata": {},
   "source": [
    "# Backpropagation"
   ]
  },
  {
   "cell_type": "code",
   "execution_count": null,
   "metadata": {},
   "outputs": [],
   "source": [
    "# Backprop to compute gradients of w1 and w2 with respect to loss\n",
    "grad_y_pred = grad_log_loss(y_pred, y)\n",
    "\n",
    "grad_h2 = sigmoid_derivative(grad_y_pred) * grad_y_pred\n",
    "\n",
    "# calculate gradient for w2\n",
    "grad_w2 = h1_relu.T.dot(grad_h2)\n",
    "\n",
    "# calculate gradient for w1\n",
    "grad_h1_relu = grad_h2.dot(w2.T)\n",
    "grad_h1 = relu_derivative(grad_h1_relu) * grad_h1_relu\n",
    "grad_w1 = x.T.dot(grad_h1)"
   ]
  },
  {
   "cell_type": "code",
   "execution_count": null,
   "metadata": {},
   "outputs": [],
   "source": [
    "# Update weights\n",
    "w1 -= learning_rate * grad_w1\n",
    "w2 -= learning_rate * grad_w2"
   ]
  },
  {
   "cell_type": "code",
   "execution_count": null,
   "metadata": {},
   "outputs": [],
   "source": [
    "# Forward pass: compute predicted y\n",
    "h1 = x.dot(w1)\n",
    "h1_relu = relu(h1)\n",
    "h2 = h1_relu.dot(w2)\n",
    "y_pred = sigmoid(h2)\n",
    "y_pred"
   ]
  },
  {
   "cell_type": "code",
   "execution_count": null,
   "metadata": {},
   "outputs": [],
   "source": [
    "# Compute and print loss\n",
    "loss = log_loss(y_pred, y).sum()\n",
    "loss"
   ]
  },
  {
   "cell_type": "code",
   "execution_count": null,
   "metadata": {},
   "outputs": [],
   "source": []
  },
  {
   "cell_type": "markdown",
   "metadata": {},
   "source": [
    "# Let's add loop"
   ]
  },
  {
   "cell_type": "code",
   "execution_count": null,
   "metadata": {},
   "outputs": [],
   "source": [
    "learning_rate = 1e-5\n",
    "for t in range(500):\n",
    "    # Forward pass: compute predicted y\n",
    "    h1 = x.dot(w1)\n",
    "    h1_relu = relu(h1)\n",
    "    h2 = h1_relu.dot(w2)\n",
    "    y_pred = sigmoid(h2)\n",
    "\n",
    "\n",
    "    # Compute and print loss\n",
    "    loss = log_loss(y_pred, y).sum()\n",
    "    if t % 100 == 0: print(t, \"\\t\", loss)\n",
    "\n",
    "    # Backprop to compute gradients of w1 and w2 with respect to loss\n",
    "    grad_y_pred = grad_log_loss(y_pred, y)\n",
    "\n",
    "    grad_h2 = sigmoid_derivative(grad_y_pred) * grad_y_pred\n",
    "\n",
    "    # calculate gradient for w2\n",
    "    grad_w2 = h1_relu.T.dot(grad_h2)\n",
    "\n",
    "    # calculate gradient for w1\n",
    "    grad_h1_relu = grad_h2.dot(w2.T)\n",
    "    grad_h1 = relu_derivative(grad_h1_relu) * grad_h1_relu\n",
    "    grad_w1 = x.T.dot(grad_h1)\n",
    "\n",
    "    # Update weights\n",
    "    w1 -= learning_rate * grad_w1\n",
    "    w2 -= learning_rate * grad_w2"
   ]
  },
  {
   "cell_type": "code",
   "execution_count": null,
   "metadata": {
    "scrolled": true
   },
   "outputs": [],
   "source": [
    "# Forward pass: compute predicted y\n",
    "h1 = x.dot(w1)\n",
    "h1_relu = relu(h1)\n",
    "h2 = h1_relu.dot(w2)\n",
    "y_pred = sigmoid(h2)\n",
    "y_pred"
   ]
  },
  {
   "cell_type": "code",
   "execution_count": null,
   "metadata": {},
   "outputs": [],
   "source": []
  },
  {
   "cell_type": "code",
   "execution_count": null,
   "metadata": {},
   "outputs": [],
   "source": []
  },
  {
   "cell_type": "code",
   "execution_count": null,
   "metadata": {},
   "outputs": [],
   "source": []
  }
 ],
 "metadata": {
  "kernelspec": {
   "display_name": "Python 3",
   "language": "python",
   "name": "python3"
  },
  "language_info": {
   "codemirror_mode": {
    "name": "ipython",
    "version": 3
   },
   "file_extension": ".py",
   "mimetype": "text/x-python",
   "name": "python",
   "nbconvert_exporter": "python",
   "pygments_lexer": "ipython3",
   "version": "3.6.7"
  }
 },
 "nbformat": 4,
 "nbformat_minor": 2
}
